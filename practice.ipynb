{
 "cells": [
  {
   "cell_type": "code",
   "execution_count": 1,
   "metadata": {},
   "outputs": [
    {
     "name": "stdout",
     "output_type": "stream",
     "text": [
      "hello world\n",
      "hello world\n"
     ]
    }
   ],
   "source": [
    "print(\"hello world\")\n",
    "print('hello world')"
   ]
  },
  {
   "cell_type": "code",
   "execution_count": 7,
   "metadata": {},
   "outputs": [
    {
     "ename": "SyntaxError",
     "evalue": "invalid syntax (<ipython-input-7-4d0b50161514>, line 6)",
     "output_type": "error",
     "traceback": [
      "\u001b[0;36m  File \u001b[0;32m\"<ipython-input-7-4d0b50161514>\"\u001b[0;36m, line \u001b[0;32m6\u001b[0m\n\u001b[0;31m    print(x.\"akshata\")\u001b[0m\n\u001b[0m                    ^\u001b[0m\n\u001b[0;31mSyntaxError\u001b[0m\u001b[0;31m:\u001b[0m invalid syntax\n"
     ]
    }
   ],
   "source": [
    "x= \"my name is\" \n",
    "y=\"akshu\"\n",
    "print(x + \"akshata\")\n",
    "print(\"my name is\" + y)\n",
    "print(x +\"\"+ y)\n",
    "print(x.\"akshata\")\n",
    "print(\"my name is\".y)\n",
    "print(x. \"\".y)"
   ]
  },
  {
   "cell_type": "code",
   "execution_count": 8,
   "metadata": {},
   "outputs": [
    {
     "name": "stdout",
     "output_type": "stream",
     "text": [
      "my name isakshata\n",
      "my name isakshu\n",
      "my name isakshu\n"
     ]
    }
   ],
   "source": [
    "x= \"my name is\" \n",
    "y=\"akshu\"\n",
    "print(x + \"akshata\")\n",
    "print(\"my name is\" + y)\n",
    "print(x +\"\"+ y)"
   ]
  },
  {
   "cell_type": "code",
   "execution_count": 10,
   "metadata": {},
   "outputs": [
    {
     "name": "stdout",
     "output_type": "stream",
     "text": [
      "my name is akshata\n",
      "my name is akshu\n",
      "my name is akshu\n"
     ]
    }
   ],
   "source": [
    "x= \"my name is\" \n",
    "y=\"akshu\"\n",
    "print(x + \" \"+\"akshata\")\n",
    "print(\"my name is\" +\" \"+ y)\n",
    "print(x +\" \"+ y)"
   ]
  },
  {
   "cell_type": "code",
   "execution_count": null,
   "metadata": {},
   "outputs": [],
   "source": []
  }
 ],
 "metadata": {
  "kernelspec": {
   "display_name": "Python 3",
   "language": "python",
   "name": "python3"
  },
  "language_info": {
   "codemirror_mode": {
    "name": "ipython",
    "version": 3
   },
   "file_extension": ".py",
   "mimetype": "text/x-python",
   "name": "python",
   "nbconvert_exporter": "python",
   "pygments_lexer": "ipython3",
   "version": "3.7.0"
  }
 },
 "nbformat": 4,
 "nbformat_minor": 2
}
